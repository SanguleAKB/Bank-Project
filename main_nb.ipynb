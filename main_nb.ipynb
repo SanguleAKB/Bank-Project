{
 "cells": [
  {
   "cell_type": "code",
   "execution_count": 1,
   "id": "398d80ba-addc-4925-949e-dfc3bbe68708",
   "metadata": {},
   "outputs": [
    {
     "name": "stdout",
     "output_type": "stream",
     "text": [
      "2.6.0+cu118\n",
      "11.8\n",
      "90100\n"
     ]
    }
   ],
   "source": [
    "import torch\n",
    "print(torch.__version__)\n",
    "print(torch.version.cuda)  # Should print CUDA version if installed\n",
    "print(torch.backends.cudnn.version())  # Should print cuDNN version if available"
   ]
  },
  {
   "cell_type": "code",
   "execution_count": 2,
   "id": "2fa1bcac",
   "metadata": {},
   "outputs": [],
   "source": [
    "import pandas as pd \n",
    "import numpy as np "
   ]
  },
  {
   "cell_type": "code",
   "execution_count": 3,
   "id": "ed53455a",
   "metadata": {},
   "outputs": [],
   "source": [
    "df =  pd.read_csv(\"complaints_processed.csv\")"
   ]
  },
  {
   "cell_type": "code",
   "execution_count": 4,
   "id": "f33dfbc0",
   "metadata": {},
   "outputs": [
    {
     "data": {
      "text/plain": [
       "(162421, 3)"
      ]
     },
     "execution_count": 4,
     "metadata": {},
     "output_type": "execute_result"
    }
   ],
   "source": [
    "df.shape"
   ]
  },
  {
   "cell_type": "code",
   "execution_count": 5,
   "id": "0fcdfcde",
   "metadata": {},
   "outputs": [
    {
     "data": {
      "text/html": [
       "<div>\n",
       "<style scoped>\n",
       "    .dataframe tbody tr th:only-of-type {\n",
       "        vertical-align: middle;\n",
       "    }\n",
       "\n",
       "    .dataframe tbody tr th {\n",
       "        vertical-align: top;\n",
       "    }\n",
       "\n",
       "    .dataframe thead th {\n",
       "        text-align: right;\n",
       "    }\n",
       "</style>\n",
       "<table border=\"1\" class=\"dataframe\">\n",
       "  <thead>\n",
       "    <tr style=\"text-align: right;\">\n",
       "      <th></th>\n",
       "      <th>Unnamed: 0</th>\n",
       "      <th>product</th>\n",
       "      <th>narrative</th>\n",
       "    </tr>\n",
       "  </thead>\n",
       "  <tbody>\n",
       "    <tr>\n",
       "      <th>0</th>\n",
       "      <td>0</td>\n",
       "      <td>credit_card</td>\n",
       "      <td>purchase order day shipping amount receive pro...</td>\n",
       "    </tr>\n",
       "    <tr>\n",
       "      <th>1</th>\n",
       "      <td>1</td>\n",
       "      <td>credit_card</td>\n",
       "      <td>forwarded message date tue subject please inve...</td>\n",
       "    </tr>\n",
       "    <tr>\n",
       "      <th>2</th>\n",
       "      <td>2</td>\n",
       "      <td>retail_banking</td>\n",
       "      <td>forwarded message cc sent friday pdt subject f...</td>\n",
       "    </tr>\n",
       "    <tr>\n",
       "      <th>3</th>\n",
       "      <td>3</td>\n",
       "      <td>credit_reporting</td>\n",
       "      <td>payment history missing credit report speciali...</td>\n",
       "    </tr>\n",
       "    <tr>\n",
       "      <th>4</th>\n",
       "      <td>4</td>\n",
       "      <td>credit_reporting</td>\n",
       "      <td>payment history missing credit report made mis...</td>\n",
       "    </tr>\n",
       "  </tbody>\n",
       "</table>\n",
       "</div>"
      ],
      "text/plain": [
       "   Unnamed: 0           product  \\\n",
       "0           0       credit_card   \n",
       "1           1       credit_card   \n",
       "2           2    retail_banking   \n",
       "3           3  credit_reporting   \n",
       "4           4  credit_reporting   \n",
       "\n",
       "                                           narrative  \n",
       "0  purchase order day shipping amount receive pro...  \n",
       "1  forwarded message date tue subject please inve...  \n",
       "2  forwarded message cc sent friday pdt subject f...  \n",
       "3  payment history missing credit report speciali...  \n",
       "4  payment history missing credit report made mis...  "
      ]
     },
     "execution_count": 5,
     "metadata": {},
     "output_type": "execute_result"
    }
   ],
   "source": [
    "df.head()"
   ]
  },
  {
   "cell_type": "code",
   "execution_count": 6,
   "id": "2661d6cd",
   "metadata": {},
   "outputs": [],
   "source": [
    "# drop Unnamed: 0\t\n",
    "df.drop(columns=['Unnamed: 0'],inplace=True)"
   ]
  },
  {
   "cell_type": "code",
   "execution_count": 7,
   "id": "54d28f62",
   "metadata": {},
   "outputs": [
    {
     "data": {
      "text/plain": [
       "product       0\n",
       "narrative    10\n",
       "dtype: int64"
      ]
     },
     "execution_count": 7,
     "metadata": {},
     "output_type": "execute_result"
    }
   ],
   "source": [
    "# checking for null values \n",
    "\n",
    "df.isnull().sum()"
   ]
  },
  {
   "cell_type": "code",
   "execution_count": 8,
   "id": "5cfddf2c",
   "metadata": {},
   "outputs": [],
   "source": [
    "df.dropna(inplace=True)"
   ]
  },
  {
   "cell_type": "code",
   "execution_count": 9,
   "id": "de4c60b0",
   "metadata": {},
   "outputs": [
    {
     "data": {
      "text/plain": [
       "product      0\n",
       "narrative    0\n",
       "dtype: int64"
      ]
     },
     "execution_count": 9,
     "metadata": {},
     "output_type": "execute_result"
    }
   ],
   "source": [
    "df.isnull().sum()"
   ]
  },
  {
   "cell_type": "code",
   "execution_count": 10,
   "id": "5a0aab19",
   "metadata": {},
   "outputs": [
    {
     "data": {
      "text/html": [
       "<div>\n",
       "<style scoped>\n",
       "    .dataframe tbody tr th:only-of-type {\n",
       "        vertical-align: middle;\n",
       "    }\n",
       "\n",
       "    .dataframe tbody tr th {\n",
       "        vertical-align: top;\n",
       "    }\n",
       "\n",
       "    .dataframe thead th {\n",
       "        text-align: right;\n",
       "    }\n",
       "</style>\n",
       "<table border=\"1\" class=\"dataframe\">\n",
       "  <thead>\n",
       "    <tr style=\"text-align: right;\">\n",
       "      <th></th>\n",
       "      <th>product</th>\n",
       "      <th>narrative</th>\n",
       "    </tr>\n",
       "  </thead>\n",
       "  <tbody>\n",
       "    <tr>\n",
       "      <th>0</th>\n",
       "      <td>credit_card</td>\n",
       "      <td>purchase order day shipping amount receive pro...</td>\n",
       "    </tr>\n",
       "    <tr>\n",
       "      <th>1</th>\n",
       "      <td>credit_card</td>\n",
       "      <td>forwarded message date tue subject please inve...</td>\n",
       "    </tr>\n",
       "    <tr>\n",
       "      <th>2</th>\n",
       "      <td>retail_banking</td>\n",
       "      <td>forwarded message cc sent friday pdt subject f...</td>\n",
       "    </tr>\n",
       "    <tr>\n",
       "      <th>3</th>\n",
       "      <td>credit_reporting</td>\n",
       "      <td>payment history missing credit report speciali...</td>\n",
       "    </tr>\n",
       "    <tr>\n",
       "      <th>4</th>\n",
       "      <td>credit_reporting</td>\n",
       "      <td>payment history missing credit report made mis...</td>\n",
       "    </tr>\n",
       "  </tbody>\n",
       "</table>\n",
       "</div>"
      ],
      "text/plain": [
       "            product                                          narrative\n",
       "0       credit_card  purchase order day shipping amount receive pro...\n",
       "1       credit_card  forwarded message date tue subject please inve...\n",
       "2    retail_banking  forwarded message cc sent friday pdt subject f...\n",
       "3  credit_reporting  payment history missing credit report speciali...\n",
       "4  credit_reporting  payment history missing credit report made mis..."
      ]
     },
     "execution_count": 10,
     "metadata": {},
     "output_type": "execute_result"
    }
   ],
   "source": [
    "df.head()"
   ]
  },
  {
   "cell_type": "code",
   "execution_count": 11,
   "id": "4b2bf988",
   "metadata": {},
   "outputs": [
    {
     "data": {
      "text/plain": [
       "array(['credit_card', 'retail_banking', 'credit_reporting',\n",
       "       'mortgages_and_loans', 'debt_collection'], dtype=object)"
      ]
     },
     "execution_count": 11,
     "metadata": {},
     "output_type": "execute_result"
    }
   ],
   "source": [
    "df['product'].unique()"
   ]
  },
  {
   "cell_type": "code",
   "execution_count": 12,
   "id": "f5d90613",
   "metadata": {},
   "outputs": [],
   "source": [
    "# label encoding\n",
    "dic={'credit_card':0, 'retail_banking':1, 'credit_reporting':2,\n",
    "       'mortgages_and_loans':3, 'debt_collection':4}\n",
    "\n",
    "df['product']=df['product'].map(dic)"
   ]
  },
  {
   "cell_type": "code",
   "execution_count": 13,
   "id": "80bd526c",
   "metadata": {},
   "outputs": [
    {
     "data": {
      "text/html": [
       "<div>\n",
       "<style scoped>\n",
       "    .dataframe tbody tr th:only-of-type {\n",
       "        vertical-align: middle;\n",
       "    }\n",
       "\n",
       "    .dataframe tbody tr th {\n",
       "        vertical-align: top;\n",
       "    }\n",
       "\n",
       "    .dataframe thead th {\n",
       "        text-align: right;\n",
       "    }\n",
       "</style>\n",
       "<table border=\"1\" class=\"dataframe\">\n",
       "  <thead>\n",
       "    <tr style=\"text-align: right;\">\n",
       "      <th></th>\n",
       "      <th>product</th>\n",
       "      <th>narrative</th>\n",
       "    </tr>\n",
       "  </thead>\n",
       "  <tbody>\n",
       "    <tr>\n",
       "      <th>0</th>\n",
       "      <td>0</td>\n",
       "      <td>purchase order day shipping amount receive pro...</td>\n",
       "    </tr>\n",
       "    <tr>\n",
       "      <th>1</th>\n",
       "      <td>0</td>\n",
       "      <td>forwarded message date tue subject please inve...</td>\n",
       "    </tr>\n",
       "    <tr>\n",
       "      <th>2</th>\n",
       "      <td>1</td>\n",
       "      <td>forwarded message cc sent friday pdt subject f...</td>\n",
       "    </tr>\n",
       "    <tr>\n",
       "      <th>3</th>\n",
       "      <td>2</td>\n",
       "      <td>payment history missing credit report speciali...</td>\n",
       "    </tr>\n",
       "    <tr>\n",
       "      <th>4</th>\n",
       "      <td>2</td>\n",
       "      <td>payment history missing credit report made mis...</td>\n",
       "    </tr>\n",
       "  </tbody>\n",
       "</table>\n",
       "</div>"
      ],
      "text/plain": [
       "   product                                          narrative\n",
       "0        0  purchase order day shipping amount receive pro...\n",
       "1        0  forwarded message date tue subject please inve...\n",
       "2        1  forwarded message cc sent friday pdt subject f...\n",
       "3        2  payment history missing credit report speciali...\n",
       "4        2  payment history missing credit report made mis..."
      ]
     },
     "execution_count": 13,
     "metadata": {},
     "output_type": "execute_result"
    }
   ],
   "source": [
    "df.head()"
   ]
  },
  {
   "cell_type": "markdown",
   "id": "b70f8fe0",
   "metadata": {},
   "source": [
    "#### Import pre-trained bert model and tokenizer"
   ]
  },
  {
   "cell_type": "code",
   "execution_count": 14,
   "id": "de1c0283-db88-4381-9745-dd8519d502ef",
   "metadata": {},
   "outputs": [
    {
     "name": "stderr",
     "output_type": "stream",
     "text": [
      "c:\\Users\\ANIRUDDHA\\anaconda3\\envs\\pytorch_env_compatible\\lib\\site-packages\\tqdm\\auto.py:21: TqdmWarning: IProgress not found. Please update jupyter and ipywidgets. See https://ipywidgets.readthedocs.io/en/stable/user_install.html\n",
      "  from .autonotebook import tqdm as notebook_tqdm\n"
     ]
    }
   ],
   "source": [
    "from transformers import BertTokenizer,BertModel\n",
    "\n",
    "tokenizer = BertTokenizer.from_pretrained(\"google-bert/bert-base-uncased\")\n",
    "model = BertModel.from_pretrained(\"google-bert/bert-base-uncased\")\n"
   ]
  },
  {
   "cell_type": "code",
   "execution_count": 15,
   "id": "2ce4bd93-d806-419b-9e1b-07ab74ef2e3c",
   "metadata": {},
   "outputs": [],
   "source": [
    "# Move the model to GPU \n",
    "device = torch.device(\"cuda\" if torch.cuda.is_available() else \"cpu\")\n",
    "model = model.to(device)"
   ]
  },
  {
   "cell_type": "code",
   "execution_count": 16,
   "id": "24844dd2",
   "metadata": {},
   "outputs": [],
   "source": [
    "df.reset_index(drop=True, inplace=True)"
   ]
  },
  {
   "cell_type": "code",
   "execution_count": 17,
   "id": "22c238d1",
   "metadata": {},
   "outputs": [],
   "source": [
    "# define class for tokenizer \n",
    "from torch.utils.data import DataLoader,Dataset\n",
    "# Dataset class \n",
    "class NarrativeTokenizer(Dataset):\n",
    "    def __init__(self,narrative,tokenizer,max_length=128): \n",
    "        self.narrative=narrative\n",
    "        self.tokenizer=tokenizer\n",
    "        self.max_length=max_length\n",
    "\n",
    "    def __len__(self): \n",
    "        return len(self.narrative)\n",
    "    \n",
    "    def __getitem__(self,idx): \n",
    "        return self.tokenizer(self.narrative[idx], return_tensors=\"pt\",\n",
    "                              padding=\"max_length\", truncation=True, max_length=self.max_length)\n",
    "    \n",
    "\n",
    "dataset = NarrativeTokenizer(df['narrative'],tokenizer)\n",
    "\n",
    "dataloader = DataLoader(dataset,batch_size=16)"
   ]
  },
  {
   "cell_type": "code",
   "execution_count": 18,
   "id": "7445ff0f",
   "metadata": {},
   "outputs": [],
   "source": [
    "df['narrative'].replace('', 'default text', inplace=True)\n",
    "# or\n",
    "df = df[df['narrative'] != '']"
   ]
  },
  {
   "cell_type": "code",
   "execution_count": 19,
   "id": "a1d85168",
   "metadata": {},
   "outputs": [],
   "source": [
    "import numpy as np\n",
    "\n",
    "embeddings = []\n",
    "\n",
    "# Disable gradient computation for inference\n",
    "model.eval()\n",
    "\n",
    "with torch.no_grad():\n",
    "    for batch in dataloader:\n",
    "        # Move inputs to the same device as the model (GPU)\n",
    "        batch = {key: val.squeeze(1).to(device) for key, val in batch.items()}\n",
    "        \n",
    "        # Pass inputs through the model\n",
    "        \n",
    "        outputs = model(**batch)\n",
    "        \n",
    "        # Extract embeddings (using [CLS] token)\n",
    "        batch_embeddings = outputs.last_hidden_state[:, 0, :].cpu().numpy()  # Move to CPU\n",
    "        embeddings.extend(batch_embeddings)\n",
    "\n",
    "# Add embeddings to the DataFrame\n",
    "df['embeddings'] = embeddings\n"
   ]
  },
  {
   "cell_type": "code",
   "execution_count": 20,
   "id": "583f7117",
   "metadata": {},
   "outputs": [
    {
     "data": {
      "text/html": [
       "<div>\n",
       "<style scoped>\n",
       "    .dataframe tbody tr th:only-of-type {\n",
       "        vertical-align: middle;\n",
       "    }\n",
       "\n",
       "    .dataframe tbody tr th {\n",
       "        vertical-align: top;\n",
       "    }\n",
       "\n",
       "    .dataframe thead th {\n",
       "        text-align: right;\n",
       "    }\n",
       "</style>\n",
       "<table border=\"1\" class=\"dataframe\">\n",
       "  <thead>\n",
       "    <tr style=\"text-align: right;\">\n",
       "      <th></th>\n",
       "      <th>product</th>\n",
       "      <th>narrative</th>\n",
       "      <th>embeddings</th>\n",
       "    </tr>\n",
       "  </thead>\n",
       "  <tbody>\n",
       "    <tr>\n",
       "      <th>0</th>\n",
       "      <td>0</td>\n",
       "      <td>purchase order day shipping amount receive pro...</td>\n",
       "      <td>[-0.3200423, 0.08734484, 0.34736332, -0.168016...</td>\n",
       "    </tr>\n",
       "    <tr>\n",
       "      <th>1</th>\n",
       "      <td>0</td>\n",
       "      <td>forwarded message date tue subject please inve...</td>\n",
       "      <td>[-0.6380642, -0.28654295, 0.297329, -0.4522261...</td>\n",
       "    </tr>\n",
       "    <tr>\n",
       "      <th>2</th>\n",
       "      <td>1</td>\n",
       "      <td>forwarded message cc sent friday pdt subject f...</td>\n",
       "      <td>[-0.22500874, 0.012715315, 0.32256964, -0.0310...</td>\n",
       "    </tr>\n",
       "    <tr>\n",
       "      <th>3</th>\n",
       "      <td>2</td>\n",
       "      <td>payment history missing credit report speciali...</td>\n",
       "      <td>[-0.4295894, 0.0020560075, 0.29063782, 0.02889...</td>\n",
       "    </tr>\n",
       "    <tr>\n",
       "      <th>4</th>\n",
       "      <td>2</td>\n",
       "      <td>payment history missing credit report made mis...</td>\n",
       "      <td>[-0.40051457, -0.04720374, 0.3525641, -0.13370...</td>\n",
       "    </tr>\n",
       "  </tbody>\n",
       "</table>\n",
       "</div>"
      ],
      "text/plain": [
       "   product                                          narrative  \\\n",
       "0        0  purchase order day shipping amount receive pro...   \n",
       "1        0  forwarded message date tue subject please inve...   \n",
       "2        1  forwarded message cc sent friday pdt subject f...   \n",
       "3        2  payment history missing credit report speciali...   \n",
       "4        2  payment history missing credit report made mis...   \n",
       "\n",
       "                                          embeddings  \n",
       "0  [-0.3200423, 0.08734484, 0.34736332, -0.168016...  \n",
       "1  [-0.6380642, -0.28654295, 0.297329, -0.4522261...  \n",
       "2  [-0.22500874, 0.012715315, 0.32256964, -0.0310...  \n",
       "3  [-0.4295894, 0.0020560075, 0.29063782, 0.02889...  \n",
       "4  [-0.40051457, -0.04720374, 0.3525641, -0.13370...  "
      ]
     },
     "execution_count": 20,
     "metadata": {},
     "output_type": "execute_result"
    }
   ],
   "source": [
    "df.head()"
   ]
  },
  {
   "cell_type": "code",
   "execution_count": 21,
   "id": "3d7ed628",
   "metadata": {},
   "outputs": [
    {
     "data": {
      "text/plain": [
       "768"
      ]
     },
     "execution_count": 21,
     "metadata": {},
     "output_type": "execute_result"
    }
   ],
   "source": [
    "len(df['embeddings'][0])   # length of embedding "
   ]
  },
  {
   "cell_type": "code",
   "execution_count": 22,
   "id": "0c81975c",
   "metadata": {},
   "outputs": [],
   "source": [
    "df.drop(columns=[\"narrative\"],inplace=True)"
   ]
  },
  {
   "cell_type": "code",
   "execution_count": 23,
   "id": "4db4a1de",
   "metadata": {},
   "outputs": [
    {
     "data": {
      "text/html": [
       "<div>\n",
       "<style scoped>\n",
       "    .dataframe tbody tr th:only-of-type {\n",
       "        vertical-align: middle;\n",
       "    }\n",
       "\n",
       "    .dataframe tbody tr th {\n",
       "        vertical-align: top;\n",
       "    }\n",
       "\n",
       "    .dataframe thead th {\n",
       "        text-align: right;\n",
       "    }\n",
       "</style>\n",
       "<table border=\"1\" class=\"dataframe\">\n",
       "  <thead>\n",
       "    <tr style=\"text-align: right;\">\n",
       "      <th></th>\n",
       "      <th>product</th>\n",
       "      <th>embeddings</th>\n",
       "    </tr>\n",
       "  </thead>\n",
       "  <tbody>\n",
       "    <tr>\n",
       "      <th>0</th>\n",
       "      <td>0</td>\n",
       "      <td>[-0.3200423, 0.08734484, 0.34736332, -0.168016...</td>\n",
       "    </tr>\n",
       "    <tr>\n",
       "      <th>1</th>\n",
       "      <td>0</td>\n",
       "      <td>[-0.6380642, -0.28654295, 0.297329, -0.4522261...</td>\n",
       "    </tr>\n",
       "    <tr>\n",
       "      <th>2</th>\n",
       "      <td>1</td>\n",
       "      <td>[-0.22500874, 0.012715315, 0.32256964, -0.0310...</td>\n",
       "    </tr>\n",
       "    <tr>\n",
       "      <th>3</th>\n",
       "      <td>2</td>\n",
       "      <td>[-0.4295894, 0.0020560075, 0.29063782, 0.02889...</td>\n",
       "    </tr>\n",
       "    <tr>\n",
       "      <th>4</th>\n",
       "      <td>2</td>\n",
       "      <td>[-0.40051457, -0.04720374, 0.3525641, -0.13370...</td>\n",
       "    </tr>\n",
       "  </tbody>\n",
       "</table>\n",
       "</div>"
      ],
      "text/plain": [
       "   product                                         embeddings\n",
       "0        0  [-0.3200423, 0.08734484, 0.34736332, -0.168016...\n",
       "1        0  [-0.6380642, -0.28654295, 0.297329, -0.4522261...\n",
       "2        1  [-0.22500874, 0.012715315, 0.32256964, -0.0310...\n",
       "3        2  [-0.4295894, 0.0020560075, 0.29063782, 0.02889...\n",
       "4        2  [-0.40051457, -0.04720374, 0.3525641, -0.13370..."
      ]
     },
     "execution_count": 23,
     "metadata": {},
     "output_type": "execute_result"
    }
   ],
   "source": [
    "df.head()"
   ]
  },
  {
   "cell_type": "code",
   "execution_count": 24,
   "id": "a9147560",
   "metadata": {},
   "outputs": [],
   "source": [
    "# Convert embeddings to PyTorch tensors\n",
    "X = torch.tensor(np.array(df['embeddings'].tolist()), dtype=torch.float32)\n",
    "y = torch.tensor(df['product'].values, dtype=torch.long)  # Assuming labels are integers"
   ]
  },
  {
   "cell_type": "code",
   "execution_count": 25,
   "id": "97f0cdcc",
   "metadata": {},
   "outputs": [
    {
     "data": {
      "text/plain": [
       "torch.Tensor"
      ]
     },
     "execution_count": 25,
     "metadata": {},
     "output_type": "execute_result"
    }
   ],
   "source": [
    "type(X)"
   ]
  },
  {
   "cell_type": "markdown",
   "id": "7f81a91f",
   "metadata": {},
   "source": [
    "#### train test split"
   ]
  },
  {
   "cell_type": "code",
   "execution_count": 26,
   "id": "3d86a6cc",
   "metadata": {},
   "outputs": [],
   "source": [
    "from sklearn.model_selection import  train_test_split\n",
    "X_train,X_test,y_train,y_test = train_test_split(X,y, test_size=0.2,random_state=10)"
   ]
  },
  {
   "cell_type": "code",
   "execution_count": 27,
   "id": "e54f607e",
   "metadata": {},
   "outputs": [],
   "source": [
    "from torch.utils.data import TensorDataset\n",
    "\n",
    "# Create DataLoader for batching\n",
    "train_dataset = TensorDataset(X_train, y_train)\n",
    "train_loader = DataLoader(train_dataset, batch_size=32, shuffle=True)\n",
    "\n",
    "test_dataset = TensorDataset(X_test, y_test)\n",
    "test_loader = DataLoader(test_dataset, batch_size=32, shuffle=False)"
   ]
  },
  {
   "cell_type": "code",
   "execution_count": 28,
   "id": "eb2a44b3",
   "metadata": {},
   "outputs": [],
   "source": [
    "from torch import nn \n",
    "\n",
    "class FeedForwordNN(nn.Module): \n",
    "    def __init__(self, input_dim, output_dim):\n",
    "        super(FeedForwordNN, self).__init__()\n",
    "        self.fc1 = nn.Linear(input_dim,128)\n",
    "        self.fc2 = nn.Linear(128,64)\n",
    "        self.fc3 = nn.Linear(64,output_dim)\n",
    "        self.relu = nn.ReLU()\n",
    "\n",
    "    def forward(self,X):\n",
    "        X = self.fc1(X)\n",
    "        X = self.relu(X)\n",
    "        X = self.fc2(X)\n",
    "        X = self.relu(X)\n",
    "        X = self.fc3(X) \n",
    "\n",
    "        return X\n",
    "    \n",
    "input_dim = X_train.shape[1]\n",
    "output_dim = len(np.unique(y))\n",
    "\n",
    "model = FeedForwordNN(input_dim,output_dim)"
   ]
  },
  {
   "cell_type": "code",
   "execution_count": 29,
   "id": "9015c45d",
   "metadata": {},
   "outputs": [
    {
     "name": "stdout",
     "output_type": "stream",
     "text": [
      "----------------------------------------------------------------\n",
      "        Layer (type)               Output Shape         Param #\n",
      "================================================================\n",
      "            Linear-1                  [-1, 128]          98,432\n",
      "              ReLU-2                  [-1, 128]               0\n",
      "            Linear-3                   [-1, 64]           8,256\n",
      "              ReLU-4                   [-1, 64]               0\n",
      "            Linear-5                    [-1, 5]             325\n",
      "================================================================\n",
      "Total params: 107,013\n",
      "Trainable params: 107,013\n",
      "Non-trainable params: 0\n",
      "----------------------------------------------------------------\n",
      "Input size (MB): 0.00\n",
      "Forward/backward pass size (MB): 0.00\n",
      "Params size (MB): 0.41\n",
      "Estimated Total Size (MB): 0.41\n",
      "----------------------------------------------------------------\n"
     ]
    }
   ],
   "source": [
    "from torchsummary import summary\n",
    "model = model.to(\"cuda\")  # Move model to GPU\n",
    "summary(model, input_size=(input_dim,), device=\"cuda\")\n"
   ]
  },
  {
   "cell_type": "code",
   "execution_count": 30,
   "id": "5d7e2b06",
   "metadata": {},
   "outputs": [],
   "source": [
    "import torch.optim as optim\n",
    "\n",
    "# Loss function\n",
    "criterion = nn.CrossEntropyLoss()\n",
    "\n",
    "# Optimizer\n",
    "optimizer = optim.Adam(model.parameters(), lr=0.001)\n"
   ]
  },
  {
   "cell_type": "code",
   "execution_count": 32,
   "id": "15e3d546",
   "metadata": {},
   "outputs": [
    {
     "name": "stdout",
     "output_type": "stream",
     "text": [
      "torch.int64 0 4\n"
     ]
    }
   ],
   "source": [
    "print(y_train.dtype, y_train.min().item(), y_train.max().item())\n"
   ]
  },
  {
   "cell_type": "code",
   "execution_count": 33,
   "id": "5b171e74",
   "metadata": {},
   "outputs": [
    {
     "name": "stdout",
     "output_type": "stream",
     "text": [
      "Epoch [1/50], Loss: 0.6625241410501835\n",
      "Epoch [2/50], Loss: 0.570153187491629\n",
      "Epoch [3/50], Loss: 0.5420786424007242\n",
      "Epoch [4/50], Loss: 0.5215787058432417\n",
      "Epoch [5/50], Loss: 0.5094563636403164\n",
      "Epoch [6/50], Loss: 0.49668914810046866\n",
      "Epoch [7/50], Loss: 0.4855131231187835\n",
      "Epoch [8/50], Loss: 0.47691531626682393\n",
      "Epoch [9/50], Loss: 0.4680745278917871\n",
      "Epoch [10/50], Loss: 0.46042731345228244\n",
      "Epoch [11/50], Loss: 0.45386602885505595\n",
      "Epoch [12/50], Loss: 0.4473682198103823\n",
      "Epoch [13/50], Loss: 0.43935049860216485\n",
      "Epoch [14/50], Loss: 0.4353185132699951\n",
      "Epoch [15/50], Loss: 0.4286865282623059\n",
      "Epoch [16/50], Loss: 0.4235330856813641\n",
      "Epoch [17/50], Loss: 0.4185958916155818\n",
      "Epoch [18/50], Loss: 0.413280573709093\n",
      "Epoch [19/50], Loss: 0.40855085812885167\n",
      "Epoch [20/50], Loss: 0.4032073310243617\n",
      "Epoch [21/50], Loss: 0.4009279520258884\n",
      "Epoch [22/50], Loss: 0.3956627521963872\n",
      "Epoch [23/50], Loss: 0.39121203493474593\n",
      "Epoch [24/50], Loss: 0.38817927445707223\n",
      "Epoch [25/50], Loss: 0.38360921280837884\n",
      "Epoch [26/50], Loss: 0.3794300953021222\n",
      "Epoch [27/50], Loss: 0.37689719457391213\n",
      "Epoch [28/50], Loss: 0.3731440556077601\n",
      "Epoch [29/50], Loss: 0.36849131143902564\n",
      "Epoch [30/50], Loss: 0.3658830330300525\n",
      "Epoch [31/50], Loss: 0.3629133198745099\n",
      "Epoch [32/50], Loss: 0.3607534661089162\n",
      "Epoch [33/50], Loss: 0.35691206954278343\n",
      "Epoch [34/50], Loss: 0.35390725629291814\n",
      "Epoch [35/50], Loss: 0.3510117306800803\n",
      "Epoch [36/50], Loss: 0.3492497963524898\n",
      "Epoch [37/50], Loss: 0.3459195143239776\n",
      "Epoch [38/50], Loss: 0.3418947431233401\n",
      "Epoch [39/50], Loss: 0.34029089373244464\n",
      "Epoch [40/50], Loss: 0.33807742290659304\n",
      "Epoch [41/50], Loss: 0.3349270964969235\n",
      "Epoch [42/50], Loss: 0.332568776417442\n",
      "Epoch [43/50], Loss: 0.33041796229304543\n",
      "Epoch [44/50], Loss: 0.3280985312776242\n",
      "Epoch [45/50], Loss: 0.3253257591080134\n",
      "Epoch [46/50], Loss: 0.32353960459777154\n",
      "Epoch [47/50], Loss: 0.3215751315168238\n",
      "Epoch [48/50], Loss: 0.3189715624206012\n",
      "Epoch [49/50], Loss: 0.3178987418868086\n",
      "Epoch [50/50], Loss: 0.3150539675778399\n"
     ]
    }
   ],
   "source": [
    "# Move model to GPU\n",
    "device = torch.device(\"cuda\" if torch.cuda.is_available() else \"cpu\")\n",
    "model = model.to(device)\n",
    "\n",
    "# Number of epochs\n",
    "epochs = 50\n",
    "\n",
    "# Training loop\n",
    "for epoch in range(epochs):\n",
    "    model.train()  # Set the model to training mode\n",
    "    running_loss = 0.0\n",
    "\n",
    "    for batch in train_loader:\n",
    "        inputs, labels = batch\n",
    "        \n",
    "        # Move inputs and labels to GPU\n",
    "        inputs, labels = inputs.to(device), labels.to(device)\n",
    "        \n",
    "        # Zero the gradients\n",
    "        optimizer.zero_grad()\n",
    "\n",
    "        # Forward pass\n",
    "        outputs = model(inputs)\n",
    "        \n",
    "        # Calculate loss\n",
    "        loss = criterion(outputs, labels)\n",
    "        \n",
    "        # Backward pass\n",
    "        loss.backward()\n",
    "        \n",
    "        # Update weights\n",
    "        optimizer.step()\n",
    "        \n",
    "        running_loss += loss.item()\n",
    "    \n",
    "    print(f\"Epoch [{epoch+1}/{epochs}], Loss: {running_loss/len(train_loader)}\")\n"
   ]
  },
  {
   "cell_type": "code",
   "execution_count": 34,
   "id": "e180050b",
   "metadata": {},
   "outputs": [
    {
     "name": "stdout",
     "output_type": "stream",
     "text": [
      "Test Accuracy: 82.01%\n"
     ]
    }
   ],
   "source": [
    "correct = 0\n",
    "total = 0\n",
    "model.eval()  # Set model to evaluation mode\n",
    "\n",
    "with torch.no_grad():\n",
    "    for inputs, labels in test_loader:\n",
    "        inputs, labels = inputs.to(device), labels.to(device)\n",
    "        outputs = model(inputs)\n",
    "        _, predicted = torch.max(outputs, 1)\n",
    "        correct += (predicted == labels).sum().item()\n",
    "        total += labels.size(0)\n",
    "\n",
    "accuracy = correct / total * 100\n",
    "print(f\"Test Accuracy: {accuracy:.2f}%\")\n"
   ]
  },
  {
   "cell_type": "code",
   "execution_count": 35,
   "id": "6b42f84c",
   "metadata": {},
   "outputs": [],
   "source": [
    "# save model \n",
    "torch.save(model.state_dict(), \"AIComplaintHub.pth\")"
   ]
  },
  {
   "cell_type": "code",
   "execution_count": 36,
   "id": "47a96d67",
   "metadata": {},
   "outputs": [],
   "source": [
    "bert_model = BertModel.from_pretrained(\"google-bert/bert-base-uncased\")\n",
    "tokenizer = BertTokenizer.from_pretrained(\"google-bert/bert-base-uncased\")"
   ]
  },
  {
   "cell_type": "code",
   "execution_count": 38,
   "id": "db4f0810",
   "metadata": {},
   "outputs": [
    {
     "name": "stdout",
     "output_type": "stream",
     "text": [
      "Predicted category: mortgages_and_loans\n"
     ]
    }
   ],
   "source": [
    "# Load the trained model\n",
    "model.load_state_dict(torch.load(\"AIComplaintHub.pth\"))\n",
    "model.eval()\n",
    "\n",
    "# Function to classify a new complaint\n",
    "def classify_new_complaint(text):\n",
    "    inputs = tokenizer(text, return_tensors=\"pt\", truncation=True, padding=True, max_length=128)\n",
    "    with torch.no_grad():\n",
    "        bert_outputs = bert_model(**inputs)\n",
    "        embedding = bert_outputs.last_hidden_state[:, 0, :]  # [CLS] embedding\n",
    "        embedding = embedding.to(device)\n",
    "        output = model(embedding)\n",
    "        prediction = torch.argmax(output, dim=1).item()\n",
    "    categories = ['credit_card', 'retail_banking', 'credit_reporting', 'mortgages_and_loans', 'debt_collection']\n",
    "    return categories[prediction]\n",
    "\n",
    "# Testing \n",
    "complaint = \"current loan provident funding applied refinance provident funding variable interest rate went loan applied refinance downpayment reduce depth also monthly payment locked interest rate day current payment going approximately provided income debt information provident funding provident funding play game interest rate arm went provided every information suspended loan application able reach mortgage broker always get voicemail responded email underwriter approving due ratio\"\n",
    "category = classify_new_complaint(complaint)\n",
    "print(f\"Predicted category: {category}\")  "
   ]
  }
 ],
 "metadata": {
  "kernelspec": {
   "display_name": "pytorch_env_compatible",
   "language": "python",
   "name": "python3"
  },
  "language_info": {
   "codemirror_mode": {
    "name": "ipython",
    "version": 3
   },
   "file_extension": ".py",
   "mimetype": "text/x-python",
   "name": "python",
   "nbconvert_exporter": "python",
   "pygments_lexer": "ipython3",
   "version": "3.10.16"
  }
 },
 "nbformat": 4,
 "nbformat_minor": 5
}
